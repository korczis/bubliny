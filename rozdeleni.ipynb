{
 "metadata": {
  "name": "",
  "signature": "sha256:d44e5e4bd76ac7c18478a002135b58da0c0129dfbb277108cdeb4b2bd0a15de7"
 },
 "nbformat": 3,
 "nbformat_minor": 0,
 "worksheets": [
  {
   "cells": [
    {
     "cell_type": "code",
     "collapsed": false,
     "input": [
      "import numpy as np\n",
      "from scipy import stats"
     ],
     "language": "python",
     "metadata": {},
     "outputs": [],
     "prompt_number": 1
    },
    {
     "cell_type": "code",
     "collapsed": false,
     "input": [
      "data = np.loadtxt(\"data/fb-propaganda-score.tsv\", dtype={'names': ('user_id', 'activity', 'propaganda', 'comm'),\n",
      "                                                         'formats': ('S10', 'i10','f6','f6')})"
     ],
     "language": "python",
     "metadata": {},
     "outputs": [],
     "prompt_number": 132
    },
    {
     "cell_type": "code",
     "collapsed": false,
     "input": [
      "import matplotlib.pyplot as plt"
     ],
     "language": "python",
     "metadata": {},
     "outputs": [],
     "prompt_number": 12
    },
    {
     "cell_type": "code",
     "collapsed": false,
     "input": [],
     "language": "python",
     "metadata": {},
     "outputs": [
      {
       "metadata": {},
       "output_type": "pyout",
       "prompt_number": 81,
       "text": [
        "17766"
       ]
      }
     ],
     "prompt_number": 81
    },
    {
     "cell_type": "code",
     "collapsed": false,
     "input": [
      "filtered = np.array(filter(lambda d: d['activity'] > 3 and d['activity'] < 100, data))\n",
      "X = filtered['propaganda']\n",
      "Y = filtered['activity']\n",
      "plt.scatter(X,Y, alpha=0.006, s=5)\n",
      "plt.show()\n",
      "len(filtered)"
     ],
     "language": "python",
     "metadata": {},
     "outputs": [
      {
       "metadata": {},
       "output_type": "pyout",
       "prompt_number": 152,
       "text": [
        "48280"
       ]
      }
     ],
     "prompt_number": 152
    },
    {
     "cell_type": "code",
     "collapsed": false,
     "input": [
      "data = np.loadtxt(\"data/fb-propaganda-score-526346124083250.tsv\", dtype={'names': ('user_id', 'activity', 'propaganda', 'comm'),\n",
      "                                                         'formats': ('S10', 'i10','f6','f6')})\n",
      "filtered2 = np.array(filter(lambda d: d['activity'] > 4, data))\n",
      "plt.hist(filtered2['propaganda'], 50)\n",
      "plt.show()"
     ],
     "language": "python",
     "metadata": {},
     "outputs": [],
     "prompt_number": 131
    },
    {
     "cell_type": "code",
     "collapsed": false,
     "input": [
      "reactions = np.loadtxt(\"data/shares-reactions.csv\", dtype={'names': ('page_id', 'post_id', 'share_count', 'reaction_count'),\n",
      "                                                         'formats': ('S16', 'S10','i6','i6')})"
     ],
     "language": "python",
     "metadata": {},
     "outputs": [],
     "prompt_number": 42
    },
    {
     "cell_type": "code",
     "collapsed": false,
     "input": [
      "reactions[1]"
     ],
     "language": "python",
     "metadata": {},
     "outputs": [
      {
       "metadata": {},
       "output_type": "pyout",
       "prompt_number": 24,
       "text": [
        "('30575632699', '1015392430', 9, 25)"
       ]
      }
     ],
     "prompt_number": 24
    },
    {
     "cell_type": "code",
     "collapsed": false,
     "input": [
      "reactions_filtered = np.array(filter(lambda d: d['page_id']=='513697425424894' and d['reaction_count'] > 0 and d['share_count'] > 0, reactions))\n",
      "plt.scatter(reactions_filtered['share_count'],reactions_filtered['reaction_count'], alpha=0.06, s=5)\n",
      "plt.show()"
     ],
     "language": "python",
     "metadata": {},
     "outputs": [],
     "prompt_number": 62
    },
    {
     "cell_type": "code",
     "collapsed": false,
     "input": [
      "slope, intercept, r_value, p_value, std_err = stats.linregress(reactions_filtered['share_count'],reactions_filtered['reaction_count'])\n",
      "print \"r-squared:\", r_value**2"
     ],
     "language": "python",
     "metadata": {},
     "outputs": [
      {
       "output_type": "stream",
       "stream": "stdout",
       "text": [
        "r-squared: 0.324629248032\n"
       ]
      }
     ],
     "prompt_number": 63
    },
    {
     "cell_type": "code",
     "collapsed": false,
     "input": [
      "\n",
      "import numpy as np\n",
      "\n",
      "from sklearn.cluster import DBSCAN\n",
      "from sklearn import metrics\n",
      "from sklearn.datasets.samples_generator import make_blobs\n",
      "from sklearn.preprocessing import StandardScaler"
     ],
     "language": "python",
     "metadata": {},
     "outputs": [],
     "prompt_number": 12
    },
    {
     "cell_type": "code",
     "collapsed": false,
     "input": [
      "data = [ [ 0, 164, 236, 100, 210, 424, 134, 226, 498, 204, 544, 428, 458, 426, 398, 526 ],\n",
      "  [ 164, 0, 318, 116, 120, 498, 86, 308, 574, 268, 622, 500, 538, 516, 464, 606 ],\n",
      "  [ 236, 318, 0, 306, 312, 278, 334, 192, 338, 314, 372, 284, 276, 244, 236, 364 ],\n",
      "  [ 100, 116, 306, 0, 154, 490, 72, 288, 566, 230, 618, 502, 528, 496, 468, 600 ],\n",
      "  [ 210, 120, 312, 154, 0, 536, 154, 374, 592, 298, 634, 542, 544, 514, 510, 626 ],\n",
      "  [ 424, 498, 278, 490, 536, 0, 504, 252, 122, 404, 180, 88, 116, 140, 92, 154 ],\n",
      "  [ 134, 86, 334, 72, 154, 504, 0, 302, 582, 250, 632, 504, 548, 520, 480, 606 ],\n",
      "  [ 226, 308, 192, 288, 374, 252, 302, 0, 332, 214, 406, 272, 322, 298, 230, 370 ],\n",
      "  [ 498, 574, 338, 566, 592, 122, 582, 332, 0, 472, 124, 164, 114, 134, 148, 72 ],\n",
      "  [ 204, 268, 314, 230, 298, 404, 250, 214, 472, 0, 542, 442, 434, 394, 384, 496 ],\n",
      "  [ 544, 622, 372, 618, 634, 180, 632, 406, 124, 542, 0, 206, 140, 176, 190, 100 ],\n",
      "  [ 428, 500, 284, 502, 542, 88, 504, 272, 164, 442, 206, 0, 146, 184, 130, 182 ],\n",
      "  [ 458, 538, 276, 528, 544, 116, 548, 322, 114, 434, 140, 146, 0, 86, 110, 126 ],\n",
      "  [ 426, 516, 244, 496, 514, 140, 520, 298, 134, 394, 176, 184, 86, 0, 128, 144 ],\n",
      "  [ 398, 464, 236, 468, 510, 92, 480, 230, 148, 384, 190, 130, 110, 128, 0, 166 ],\n",
      "  [ 526, 606, 364, 600, 626, 154, 606, 370, 72, 496, 100, 182, 126, 144, 166, 0 ] ]\n",
      "\n",
      "from sklearn.metrics.pairwise import euclidean_distances\n",
      "X = euclidean_distances(data, data)"
     ],
     "language": "python",
     "metadata": {},
     "outputs": [
      {
       "metadata": {},
       "output_type": "pyout",
       "prompt_number": 45,
       "text": [
        "array([[    0.        ,   360.23880968,   676.14791281,   280.73475025,\n",
        "          458.39720767,  1314.94334479,   347.05619142,   635.09684301,\n",
        "         1459.75066364,   377.29033913,  1516.55530727,  1278.20968546,\n",
        "         1390.27335442,  1300.6736716 ,  1253.28209115,  1507.49461027],\n",
        "       [  360.23880968,     0.        ,   907.68937418,   187.21111078,\n",
        "          220.24531777,  1518.57038032,   141.37892346,   880.60888026,\n",
        "         1642.37267391,   546.69918602,  1677.87246238,  1472.6520295 ,\n",
        "         1585.42864866,  1503.92154051,  1462.87935251,  1680.7831508 ],\n",
        "       [  676.14791281,   907.68937418,     0.        ,   893.2793516 ,\n",
        "          937.11472083,   755.0708576 ,   937.08484141,   310.21927729,\n",
        "          919.96086873,   623.47092955,  1004.02988003,   730.13149501,\n",
        "          822.80738937,   727.15335384,   678.09438871,   981.72297518],\n",
        "       [  280.73475025,   187.21111078,   893.2793516 ,     0.        ,\n",
        "          293.25074595,  1514.31568703,   124.94798918,   856.50919435,\n",
        "         1643.0690795 ,   510.29403289,  1684.02850332,  1472.10325725,\n",
        "         1583.1942395 ,  1497.98664881,  1458.19614593,  1683.66504982],\n",
        "       [  458.39720767,   220.24531777,   937.11472083,   293.25074595,\n",
        "            0.        ,  1542.60947748,   270.15551077,   943.23061867,\n",
        "         1648.41499629,   591.36114177,  1670.51010174,  1493.61708614,\n",
        "         1595.18901701,  1514.89933659,  1490.89369172,  1681.06751798],\n",
        "       [ 1314.94334479,  1518.57038032,   755.0708576 ,  1514.31568703,\n",
        "         1542.60947748,     0.        ,  1544.8974076 ,   784.72415536,\n",
        "          299.08527212,  1168.74291442,   465.68658989,   158.3414033 ,\n",
        "          219.01598115,   235.26155657,   161.26996   ,   391.42815433],\n",
        "       [  347.05619142,   141.37892346,   937.08484141,   124.94798918,\n",
        "          270.15551077,  1544.8974076 ,     0.        ,   897.84853957,\n",
        "         1669.2776881 ,   548.72579673,  1705.50989443,  1499.2011206 ,\n",
        "         1613.38030235,  1530.85596971,  1490.6790399 ,  1706.90011424],\n",
        "       [  635.09684301,   880.60888026,   310.21927729,   856.50919435,\n",
        "          943.23061867,   784.72415536,   897.84853957,     0.        ,\n",
        "          964.39203647,   521.39812044,  1063.05597219,   765.07777382,\n",
        "          887.74771191,   797.45344692,   717.54581735,  1029.63294431],\n",
        "       [ 1459.75066364,  1642.37267391,   919.96086873,  1643.0690795 ,\n",
        "         1648.41499629,   299.08527212,  1669.2776881 ,   964.39203647,\n",
        "            0.        ,  1298.73014903,   252.56286346,   328.77347825,\n",
        "          215.54581879,   291.82186347,   369.44823724,   142.30952182],\n",
        "       [  377.29033913,   546.69918602,   623.47092955,   510.29403289,\n",
        "          591.36114177,  1168.74291442,   548.72579673,   521.39812044,\n",
        "         1298.73014903,     0.        ,  1354.03988124,  1137.89278933,\n",
        "         1237.95314936,  1148.27348659,  1113.54928045,  1341.03243809],\n",
        "       [ 1516.55530727,  1677.87246238,  1004.02988003,  1684.02850332,\n",
        "         1670.51010174,   465.68658989,  1705.50989443,  1063.05597219,\n",
        "          252.56286346,  1354.03988124,     0.        ,   455.74554304,\n",
        "          357.5136361 ,   435.62828191,   524.93047159,   175.70429704],\n",
        "       [ 1278.20968546,  1472.6520295 ,   730.13149501,  1472.10325725,\n",
        "         1493.61708614,   158.3414033 ,  1499.2011206 ,   765.07777382,\n",
        "          328.77347825,  1137.89278933,   455.74554304,     0.        ,\n",
        "          266.45825189,   288.40943119,   226.71568098,   400.52964934],\n",
        "       [ 1390.27335442,  1585.42864866,   822.80738937,  1583.1942395 ,\n",
        "         1595.18901701,   219.01598115,  1613.38030235,   887.74771191,\n",
        "          215.54581879,  1237.95314936,   357.5136361 ,   266.45825189,\n",
        "            0.        ,   163.00920219,   251.14139444,   287.69428218],\n",
        "       [ 1300.6736716 ,  1503.92154051,   727.15335384,  1497.98664881,\n",
        "         1514.89933659,   235.26155657,  1530.85596971,   797.45344692,\n",
        "          291.82186347,  1148.27348659,   435.62828191,   288.40943119,\n",
        "          163.00920219,     0.        ,   223.86603137,   364.93835096],\n",
        "       [ 1253.28209115,  1462.87935251,   678.09438871,  1458.19614593,\n",
        "         1490.89369172,   161.26996   ,  1490.6790399 ,   717.54581735,\n",
        "          369.44823724,  1113.54928045,   524.93047159,   226.71568098,\n",
        "          251.14139444,   223.86603137,     0.        ,   455.93859236],\n",
        "       [ 1507.49461027,  1680.7831508 ,   981.72297518,  1683.66504982,\n",
        "         1681.06751798,   391.42815433,  1706.90011424,  1029.63294431,\n",
        "          142.30952182,  1341.03243809,   175.70429704,   400.52964934,\n",
        "          287.69428218,   364.93835096,   455.93859236,     0.        ]])"
       ]
      }
     ],
     "prompt_number": 45
    },
    {
     "cell_type": "code",
     "collapsed": false,
     "input": [
      "db = DBSCAN(metric=\"precomputed\").fit(X)\n",
      "core_samples_mask = np.zeros_like(db.labels_, dtype=bool)\n",
      "core_samples_mask[db.core_sample_indices_] = True\n",
      "labels = db.labels_\n",
      "\n",
      "# Number of clusters in labels, ignoring noise if present.\n",
      "n_clusters_ = len(set(labels)) - (1 if -1 in labels else 0)\n",
      "\n",
      "import matplotlib.pyplot as plt\n",
      "\n",
      "# Black removed and is used for noise instead.\n",
      "unique_labels = set(labels)\n",
      "colors = plt.cm.Spectral(np.linspace(0, 1, len(unique_labels)))\n",
      "for k, col in zip(unique_labels, colors):\n",
      "    if k == -1:\n",
      "        # Black used for noise.\n",
      "        col = 'k'\n",
      "\n",
      "    class_member_mask = (labels == k)\n",
      "\n",
      "    xy = X[class_member_mask & core_samples_mask]\n",
      "    plt.plot(xy[:, 0], xy[:, 1], 'o', markerfacecolor=col,\n",
      "             markeredgecolor='k', markersize=14)\n",
      "\n",
      "    xy = X[class_member_mask & ~core_samples_mask]\n",
      "    plt.plot(xy[:, 0], xy[:, 1], 'o', markerfacecolor=col,\n",
      "             markeredgecolor='k', markersize=6)\n",
      "\n",
      "plt.title('Estimated number of clusters: %d' % n_clusters_)\n",
      "plt.show()"
     ],
     "language": "python",
     "metadata": {},
     "outputs": []
    },
    {
     "cell_type": "code",
     "collapsed": false,
     "input": [],
     "language": "python",
     "metadata": {},
     "outputs": [
      {
       "metadata": {},
       "output_type": "pyout",
       "prompt_number": 52,
       "text": [
        "array([[ 0.61960787,  0.00392157,  0.25882354,  1.        ]])"
       ]
      }
     ],
     "prompt_number": 52
    }
   ],
   "metadata": {}
  }
 ]
}